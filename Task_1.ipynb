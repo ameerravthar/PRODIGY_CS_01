{
  "nbformat": 4,
  "nbformat_minor": 0,
  "metadata": {
    "colab": {
      "provenance": []
    },
    "kernelspec": {
      "name": "python3",
      "display_name": "Python 3"
    },
    "language_info": {
      "name": "python"
    }
  },
  "cells": [
    {
      "cell_type": "code",
      "execution_count": 1,
      "metadata": {
        "id": "h4f8f8pWcSr8",
        "colab": {
          "base_uri": "https://localhost:8080/"
        },
        "outputId": "57011f2d-67f6-4d06-b97c-34a152958a3d"
      },
      "outputs": [
        {
          "output_type": "stream",
          "name": "stdout",
          "text": [
            "Caesar Cipher Tool\n",
            "Do you want to (E)ncrypt or (D)ecrypt? f\n",
            "❌ Invalid mode selected. Please choose 'E' or 'D'.\n",
            "Do you want to (E)ncrypt or (D)ecrypt? s\n",
            "❌ Invalid mode selected. Please choose 'E' or 'D'.\n",
            "Do you want to (E)ncrypt or (D)ecrypt? e\n",
            "Enter your message: dfd\n",
            "Enter the shift value (e.g. 3): 2\n",
            "\n",
            "🔒 Encrypted Message: fhf\n"
          ]
        }
      ],
      "source": [
        "def caesar_encrypt(text, shift):\n",
        "    result = \"\"\n",
        "    for char in text:\n",
        "        if char.isupper():\n",
        "            result += chr((ord(char) + shift - 65) % 26 + 65)\n",
        "        elif char.islower():\n",
        "            result += chr((ord(char) + shift - 97) % 26 + 97)\n",
        "        else:\n",
        "            result += char\n",
        "    return result\n",
        "\n",
        "def caesar_decrypt(text, shift):\n",
        "    return caesar_encrypt(text, -shift)  # reverse the shift\n",
        "\n",
        "# --- User Interaction ---\n",
        "print(\"Caesar Cipher Tool\")\n",
        "\n",
        "# Loop until a valid mode is entered\n",
        "while True:\n",
        "    mode = input(\"Do you want to (E)ncrypt or (D)ecrypt? \").strip().lower()\n",
        "    if mode in ['e', 'd']:\n",
        "        break  # Valid input, exit the loop\n",
        "    else:\n",
        "        print(\"❌ Invalid mode selected. Please choose 'E' or 'D'.\")\n",
        "\n",
        "message = input(\"Enter your message: \")\n",
        "shift = int(input(\"Enter the shift value (e.g. 3): \"))\n",
        "\n",
        "if mode.startswith(\"e\"):\n",
        "    encrypted = caesar_encrypt(message, shift)\n",
        "    print(f\"\\n🔒 Encrypted Message: {encrypted}\")\n",
        "elif mode.startswith(\"d\"):\n",
        "    decrypted = caesar_decrypt(message, shift)\n",
        "    print(f\"\\n🔓 Decrypted Message: {decrypted}\")\n"
      ]
    }
  ]
}